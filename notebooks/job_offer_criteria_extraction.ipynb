{
 "cells": [
  {
   "cell_type": "code",
   "execution_count": 3,
   "id": "dc7be446",
   "metadata": {},
   "outputs": [],
   "source": [
    "import os\n",
    "import sys\n",
    "\n",
    "sys.path.append(os.path.abspath(\"..\"))"
   ]
  },
  {
   "cell_type": "code",
   "execution_count": 6,
   "id": "210bd52e",
   "metadata": {},
   "outputs": [
    {
     "data": {
      "text/html": [
       "<pre style=\"white-space:pre;overflow-x:auto;line-height:normal;font-family:Menlo,'DejaVu Sans Mono',consolas,'Courier New',monospace\">Accessing as marc.parcerisa\n",
       "</pre>\n"
      ],
      "text/plain": [
       "Accessing as marc.parcerisa\n"
      ]
     },
     "metadata": {},
     "output_type": "display_data"
    },
    {
     "data": {
      "text/html": [
       "<pre style=\"white-space:pre;overflow-x:auto;line-height:normal;font-family:Menlo,'DejaVu Sans Mono',consolas,'Courier New',monospace\">Initialized MLflow to track repo <span style=\"color: #008000; text-decoration-color: #008000\">\"danirc2/MLOps_RecruitAIr\"</span>\n",
       "</pre>\n"
      ],
      "text/plain": [
       "Initialized MLflow to track repo \u001b[32m\"danirc2/MLOps_RecruitAIr\"\u001b[0m\n"
      ]
     },
     "metadata": {},
     "output_type": "display_data"
    },
    {
     "data": {
      "text/html": [
       "<pre style=\"white-space:pre;overflow-x:auto;line-height:normal;font-family:Menlo,'DejaVu Sans Mono',consolas,'Courier New',monospace\">Repository danirc2/MLOps_RecruitAIr initialized!\n",
       "</pre>\n"
      ],
      "text/plain": [
       "Repository danirc2/MLOps_RecruitAIr initialized!\n"
      ]
     },
     "metadata": {},
     "output_type": "display_data"
    }
   ],
   "source": [
    "import dagshub\n",
    "dagshub.init(repo_owner='danirc2', repo_name='MLOps_RecruitAIr', mlflow=True)"
   ]
  },
  {
   "cell_type": "code",
   "execution_count": 7,
   "id": "7b1ba014",
   "metadata": {},
   "outputs": [
    {
     "name": "stderr",
     "output_type": "stream",
     "text": [
      "2025/09/25 22:38:23 INFO mlflow.store.model_registry.abstract_store: Waiting up to 300 seconds for prompt version to finish creation. Prompt name: job-offer-criteria-extraction, version 1\n"
     ]
    }
   ],
   "source": [
    "import mlflow\n",
    "\n",
    "from recruitair.job_offers.models import KeyCriteriaResponse\n",
    "\n",
    "prompt = mlflow.genai.register_prompt(\n",
    "    name=\"job-offer-criteria-extraction\",\n",
    "    response_format=KeyCriteriaResponse,\n",
    "    commit_message=\"Add job offer criteria extraction prompt\",\n",
    "    tags={\"module\": \"job-offers\"},\n",
    "    template=\"\"\"The following text is a job offer. From it, extract all the key requirements or\n",
    "criteria that an applicant to this job offer must or should fulfill. Criteria can\n",
    "be either explicit requirements that are clearly stated in the job offer, implicit\n",
    "requirements that are not clearly stated but can be inferred from the job offer,\n",
    "desirable qualities that are not strictly required but would make an applicant\n",
    "more competitive, or any other relevant criteria that can be derived from the job offer.\n",
    "\n",
    "For each criterion, provide:\n",
    "- A title in one or two words at most.\n",
    "- A brief but exhaustive description, which will be used later for evaluation, so\n",
    "    it must be clear, precise, and unambiguous.\n",
    "- An importance rating from 1 to 5, where 1 means \"it would be okay for an applicant\n",
    "    to have this criterion, but it's not bad if they don't\" and 5 means \"an applicant\n",
    "    must absolutely have this criterion to be considered for the job\".\n",
    "\n",
    "Provide the output as a JSON object with a single field \"key_criteria\", which is\n",
    "a list of dictionaries, each representing a key requirement or criterion with\n",
    "the fields \"title\", \"description\", and \"importance\".\n",
    "\n",
    "For example, if the job offer has the following text:\n",
    "\n",
    "```\n",
    "We are looking for a Junior Machine Learning Engineer with expertise and passion\n",
    "in the Gen AI space.\n",
    "```\n",
    "\n",
    "You might extract the following key criteria:\n",
    "\n",
    "```json\n",
    "{\n",
    "    \"key_criteria\": [\n",
    "        {\n",
    "            \"title\": \"GenAI Expertise\",\n",
    "            \"description\": \"Expertise and passion in the field of Generative AI.\",\n",
    "            \"importance\": 5\n",
    "        },\n",
    "        {\n",
    "            \"title\": \"ML Background\",\n",
    "            \"description\": \"Background in Machine Learning engineering.\",\n",
    "            \"importance\": 3\n",
    "        }\n",
    "        ...\n",
    "    ]\n",
    "}\n",
    "```\n",
    "\n",
    "Or if the job offer has the following text:\n",
    "\n",
    "```\n",
    "BSc or MSc in Computer Science, Artificial Intelligence, Mathematics, Data Science,\n",
    "or any other related discipline or commensurate work experience or demonstrated\n",
    "competence. MSc related to Generative AI would be a plus.\n",
    "Between 0 - 3 years of work experience, internships related to the job content\n",
    "would also be valuable. Exposure to Gen AI in previous projects / internships.\n",
    "```\n",
    "\n",
    "You might extract the following key criteria:\n",
    "\n",
    "```json\n",
    "{\n",
    "    \"key_criteria\": [\n",
    "        {\n",
    "            \"title\": \"Educational Background\",\n",
    "            \"description\": \"BSc or MSc in Computer Science, Artificial Intelligence, Mathematics, Data Science, or any other related discipline or commensurate work experience or demonstrated competence.\",\n",
    "            \"importance\": 5\n",
    "        },\n",
    "        {\n",
    "            \"title\": \"Generative AI Education\",\n",
    "            \"description\": \"MSc related to Generative AI would be a plus.\",\n",
    "            \"importance\": 3\n",
    "        },\n",
    "        {\n",
    "            \"title\": \"Work Experience\",\n",
    "            \"description\": \"Between 0 - 3 years of work experience, internships related to the job content would also be valuable.\",\n",
    "            \"importance\": 4\n",
    "        },\n",
    "        {\n",
    "            \"title\": \"Gen AI Exposure\",\n",
    "            \"description\": \"Exposure to Generative AI in previous projects / internships.\",\n",
    "            \"importance\": 4\n",
    "        }\n",
    "        ...\n",
    "    ]\n",
    "}\n",
    "```\n",
    "\n",
    "Here's the job offer text:\n",
    "{{job_offer_text}}\n",
    "Provide the output as a JSON object only, without any additional text or explanation.\"\"\",\n",
    ")"
   ]
  }
 ],
 "metadata": {
  "kernelspec": {
   "display_name": "mlops-recruitair (3.12.9)",
   "language": "python",
   "name": "python3"
  },
  "language_info": {
   "codemirror_mode": {
    "name": "ipython",
    "version": 3
   },
   "file_extension": ".py",
   "mimetype": "text/x-python",
   "name": "python",
   "nbconvert_exporter": "python",
   "pygments_lexer": "ipython3",
   "version": "3.12.9"
  }
 },
 "nbformat": 4,
 "nbformat_minor": 5
}
